{
 "cells": [
  {
   "cell_type": "markdown",
   "metadata": {},
   "source": [
    "# 回归模型演示\n",
    "使用梯度下降找到心心念念的两个参数 w 和 b\n",
    "### 引入相关库，为演示做好准备"
   ]
  },
  {
   "cell_type": "code",
   "execution_count": 7,
   "metadata": {},
   "outputs": [],
   "source": [
    "import numpy as np\n",
    "import matplotlib.pyplot as plt\n",
    "from pylab import mpl\n",
    "# matplotlib没有中文字体，动态解决\n",
    "plt.rcParams['font.sans-serif'] = ['Simhei']  # 显示中文\n",
    "mpl.rcParams['axes.unicode_minus'] = False  # 解决保存图像是负号'-'显示为方块的问题"
   ]
  },
  {
   "cell_type": "markdown",
   "metadata": {},
   "source": [
    "### 导入数据"
   ]
  },
  {
   "cell_type": "code",
   "execution_count": 8,
   "metadata": {},
   "outputs": [
    {
     "name": "stdout",
     "output_type": "stream",
     "text": [
      "[[-200 -199 -198 ... -103 -102 -101]\n",
      " [-200 -199 -198 ... -103 -102 -101]\n",
      " [-200 -199 -198 ... -103 -102 -101]\n",
      " ...\n",
      " [-200 -199 -198 ... -103 -102 -101]\n",
      " [-200 -199 -198 ... -103 -102 -101]\n",
      " [-200 -199 -198 ... -103 -102 -101]] [[-5.  -5.  -5.  ... -5.  -5.  -5. ]\n",
      " [-4.9 -4.9 -4.9 ... -4.9 -4.9 -4.9]\n",
      " [-4.8 -4.8 -4.8 ... -4.8 -4.8 -4.8]\n",
      " ...\n",
      " [ 4.7  4.7  4.7 ...  4.7  4.7  4.7]\n",
      " [ 4.8  4.8  4.8 ...  4.8  4.8  4.8]\n",
      " [ 4.9  4.9  4.9 ...  4.9  4.9  4.9]]\n"
     ]
    }
   ],
   "source": [
    "x_data = [338., 333., 328., 207., 226., 25., 179., 60., 208., 606.]\n",
    "y_data = [640., 633., 619., 393., 428., 27., 193., 66., 226., 1591.]\n",
    "x_d = np.asarray(x_data)\n",
    "y_d = np.asarray(y_data)\n",
    "x = np.arange(-200, -100, 1)\n",
    "y = np.arange(-5, 5, 0.1)\n",
    "Z = np.zeros((len(x), len(y)))\n",
    "X, Y = np.meshgrid(x, y)\n",
    "print(X,Y)"
   ]
  },
  {
   "cell_type": "markdown",
   "metadata": {},
   "source": [
    "### 计算损失函数"
   ]
  },
  {
   "cell_type": "code",
   "execution_count": 9,
   "metadata": {},
   "outputs": [],
   "source": [
    "# loss\n",
    "for i in range(len(x)):\n",
    "    for j in range(len(y)):\n",
    "        b = x[i]\n",
    "        w = y[j]\n",
    "        Z[j][i] = 0  # meshgrid吐出结果：y为行，x为列\n",
    "        for n in range(len(x_data)):\n",
    "            Z[j][i] += (y_data[n] - b - w * x_data[n]) ** 2\n",
    "        Z[j][i] /= len(x_data)"
   ]
  },
  {
   "cell_type": "markdown",
   "metadata": {},
   "source": [
    "### 计算b和w的偏微分 "
   ]
  },
  {
   "cell_type": "code",
   "execution_count": 20,
   "metadata": {},
   "outputs": [
    {
     "name": "stdout",
     "output_type": "stream",
     "text": [
      "Step 0, w: 1.6534, b: -119.9839, Loss: 3670819.0000\n",
      "Step 10000, w: 2.4781, b: -121.8628, Loss: 11428.6652\n",
      "Step 20000, w: 2.4834, b: -123.6924, Loss: 11361.7161\n",
      "Step 30000, w: 2.4885, b: -125.4716, Loss: 11298.3964\n",
      "Step 40000, w: 2.4935, b: -127.2020, Loss: 11238.5092\n",
      "Step 50000, w: 2.4983, b: -128.8848, Loss: 11181.8685\n",
      "Step 60000, w: 2.5030, b: -130.5213, Loss: 11128.2983\n",
      "Step 70000, w: 2.5076, b: -132.1129, Loss: 11077.6321\n",
      "Step 80000, w: 2.5120, b: -133.6607, Loss: 11029.7126\n",
      "Step 90000, w: 2.5164, b: -135.1660, Loss: 10984.3908\n",
      "Step 100000, w: 2.5206, b: -136.6300, Loss: 10941.5259\n",
      "Step 110000, w: 2.5247, b: -138.0536, Loss: 10900.9847\n",
      "Step 120000, w: 2.5287, b: -139.4382, Loss: 10862.6412\n",
      "Step 130000, w: 2.5325, b: -140.7847, Loss: 10826.3764\n",
      "Step 140000, w: 2.5363, b: -142.0942, Loss: 10792.0774\n",
      "Step 150000, w: 2.5399, b: -143.3678, Loss: 10759.6379\n",
      "Step 160000, w: 2.5435, b: -144.6063, Loss: 10728.9568\n",
      "Step 170000, w: 2.5470, b: -145.8108, Loss: 10699.9390\n",
      "Step 180000, w: 2.5503, b: -146.9821, Loss: 10672.4943\n",
      "Step 190000, w: 2.5536, b: -148.1213, Loss: 10646.5373\n",
      "Step 200000, w: 2.5568, b: -149.2292, Loss: 10621.9875\n",
      "Step 210000, w: 2.5599, b: -150.3066, Loss: 10598.7685\n",
      "Step 220000, w: 2.5629, b: -151.3545, Loss: 10576.8082\n",
      "Step 230000, w: 2.5658, b: -152.3735, Loss: 10556.0384\n",
      "Step 240000, w: 2.5687, b: -153.3645, Loss: 10536.3946\n",
      "Step 250000, w: 2.5714, b: -154.3283, Loss: 10517.8156\n",
      "Step 260000, w: 2.5741, b: -155.2656, Loss: 10500.2438\n",
      "Step 270000, w: 2.5768, b: -156.1771, Loss: 10483.6245\n",
      "Step 280000, w: 2.5793, b: -157.0636, Loss: 10467.9062\n",
      "Step 290000, w: 2.5818, b: -157.9257, Loss: 10453.0400\n",
      "Step 300000, w: 2.5842, b: -158.7642, Loss: 10438.9797\n",
      "Step 310000, w: 2.5865, b: -159.5795, Loss: 10425.6816\n",
      "Step 320000, w: 2.5888, b: -160.3725, Loss: 10413.1044\n",
      "Step 330000, w: 2.5910, b: -161.1437, Loss: 10401.2090\n",
      "Step 340000, w: 2.5932, b: -161.8937, Loss: 10389.9584\n",
      "Step 350000, w: 2.5953, b: -162.6231, Loss: 10379.3178\n",
      "Step 360000, w: 2.5973, b: -163.3324, Loss: 10369.2539\n",
      "Step 370000, w: 2.5993, b: -164.0222, Loss: 10359.7357\n",
      "Step 380000, w: 2.6012, b: -164.6931, Loss: 10350.7334\n",
      "Step 390000, w: 2.6031, b: -165.3456, Loss: 10342.2191\n",
      "Step 400000, w: 2.6049, b: -165.9801, Loss: 10334.1664\n",
      "Step 410000, w: 2.6067, b: -166.5971, Loss: 10326.5503\n",
      "Step 420000, w: 2.6084, b: -167.1973, Loss: 10319.3470\n",
      "Step 430000, w: 2.6101, b: -167.7809, Loss: 10312.5342\n",
      "Step 440000, w: 2.6117, b: -168.3485, Loss: 10306.0907\n",
      "Step 450000, w: 2.6133, b: -168.9004, Loss: 10299.9965\n",
      "Step 460000, w: 2.6149, b: -169.4373, Loss: 10294.2327\n",
      "Step 470000, w: 2.6164, b: -169.9593, Loss: 10288.7813\n",
      "Step 480000, w: 2.6178, b: -170.4670, Loss: 10283.6255\n",
      "Step 490000, w: 2.6192, b: -170.9608, Loss: 10278.7492\n",
      "Step 500000, w: 2.6206, b: -171.4410, Loss: 10274.1372\n",
      "Step 510000, w: 2.6220, b: -171.9080, Loss: 10269.7752\n",
      "Step 520000, w: 2.6233, b: -172.3621, Loss: 10265.6497\n",
      "Step 530000, w: 2.6245, b: -172.8038, Loss: 10261.7478\n",
      "Step 540000, w: 2.6258, b: -173.2333, Loss: 10258.0575\n",
      "Step 550000, w: 2.6270, b: -173.6511, Loss: 10254.5672\n",
      "Step 560000, w: 2.6281, b: -174.0573, Loss: 10251.2661\n",
      "Step 570000, w: 2.6293, b: -174.4524, Loss: 10248.1440\n",
      "Step 580000, w: 2.6304, b: -174.8366, Loss: 10245.1911\n",
      "Step 590000, w: 2.6315, b: -175.2103, Loss: 10242.3983\n",
      "Step 600000, w: 2.6325, b: -175.5737, Loss: 10239.7569\n",
      "Step 610000, w: 2.6335, b: -175.9271, Loss: 10237.2587\n",
      "Step 620000, w: 2.6345, b: -176.2708, Loss: 10234.8959\n",
      "Step 630000, w: 2.6355, b: -176.6051, Loss: 10232.6612\n",
      "Step 640000, w: 2.6364, b: -176.9302, Loss: 10230.5476\n",
      "Step 650000, w: 2.6373, b: -177.2463, Loss: 10228.5487\n",
      "Step 660000, w: 2.6382, b: -177.5537, Loss: 10226.6580\n",
      "Step 670000, w: 2.6390, b: -177.8527, Loss: 10224.8699\n",
      "Step 680000, w: 2.6399, b: -178.1435, Loss: 10223.1787\n",
      "Step 690000, w: 2.6407, b: -178.4263, Loss: 10221.5792\n",
      "Step 700000, w: 2.6415, b: -178.7013, Loss: 10220.0664\n",
      "Step 710000, w: 2.6423, b: -178.9688, Loss: 10218.6356\n",
      "Step 720000, w: 2.6430, b: -179.2289, Loss: 10217.2824\n",
      "Step 730000, w: 2.6437, b: -179.4818, Loss: 10216.0025\n",
      "Step 740000, w: 2.6444, b: -179.7278, Loss: 10214.7920\n",
      "Step 750000, w: 2.6451, b: -179.9671, Loss: 10213.6472\n",
      "Step 760000, w: 2.6458, b: -180.1998, Loss: 10212.5644\n",
      "Step 770000, w: 2.6464, b: -180.4260, Loss: 10211.5403\n",
      "Step 780000, w: 2.6471, b: -180.6461, Loss: 10210.5717\n",
      "Step 790000, w: 2.6477, b: -180.8601, Loss: 10209.6556\n",
      "Step 800000, w: 2.6483, b: -181.0682, Loss: 10208.7892\n",
      "Step 810000, w: 2.6489, b: -181.2707, Loss: 10207.9697\n",
      "Step 820000, w: 2.6494, b: -181.4675, Loss: 10207.1947\n",
      "Step 830000, w: 2.6500, b: -181.6589, Loss: 10206.4617\n",
      "Step 840000, w: 2.6505, b: -181.8451, Loss: 10205.7684\n",
      "Step 850000, w: 2.6510, b: -182.0262, Loss: 10205.1127\n",
      "Step 860000, w: 2.6515, b: -182.2022, Loss: 10204.4926\n",
      "Step 870000, w: 2.6520, b: -182.3735, Loss: 10203.9060\n",
      "Step 880000, w: 2.6525, b: -182.5400, Loss: 10203.3513\n",
      "Step 890000, w: 2.6530, b: -182.7020, Loss: 10202.8266\n",
      "Step 900000, w: 2.6534, b: -182.8595, Loss: 10202.3304\n",
      "Step 910000, w: 2.6539, b: -183.0127, Loss: 10201.8611\n",
      "Step 920000, w: 2.6543, b: -183.1616, Loss: 10201.4172\n",
      "Step 930000, w: 2.6547, b: -183.3065, Loss: 10200.9974\n",
      "Step 940000, w: 2.6551, b: -183.4474, Loss: 10200.6003\n",
      "Step 950000, w: 2.6555, b: -183.5844, Loss: 10200.2248\n",
      "Step 960000, w: 2.6559, b: -183.7177, Loss: 10199.8696\n",
      "Step 970000, w: 2.6563, b: -183.8473, Loss: 10199.5337\n",
      "Step 980000, w: 2.6566, b: -183.9733, Loss: 10199.2160\n",
      "Step 990000, w: 2.6570, b: -184.0959, Loss: 10198.9155\n",
      "Step 1000000, w: 2.6573, b: -184.2151, Loss: 10198.6313\n",
      "Step 1010000, w: 2.6577, b: -184.3310, Loss: 10198.3625\n",
      "Step 1020000, w: 2.6580, b: -184.4438, Loss: 10198.1083\n",
      "Step 1030000, w: 2.6583, b: -184.5534, Loss: 10197.8679\n",
      "Step 1040000, w: 2.6586, b: -184.6600, Loss: 10197.6405\n",
      "Step 1050000, w: 2.6589, b: -184.7637, Loss: 10197.4254\n",
      "Step 1060000, w: 2.6592, b: -184.8646, Loss: 10197.2220\n",
      "Step 1070000, w: 2.6595, b: -184.9626, Loss: 10197.0296\n",
      "Step 1080000, w: 2.6598, b: -185.0580, Loss: 10196.8476\n",
      "Step 1090000, w: 2.6600, b: -185.1508, Loss: 10196.6755\n",
      "Step 1100000, w: 2.6603, b: -185.2410, Loss: 10196.5128\n",
      "Step 1110000, w: 2.6605, b: -185.3287, Loss: 10196.3588\n",
      "Step 1120000, w: 2.6608, b: -185.4140, Loss: 10196.2132\n",
      "Step 1130000, w: 2.6610, b: -185.4970, Loss: 10196.0755\n",
      "Step 1140000, w: 2.6612, b: -185.5777, Loss: 10195.9453\n",
      "Step 1150000, w: 2.6615, b: -185.6562, Loss: 10195.8221\n",
      "Step 1160000, w: 2.6617, b: -185.7325, Loss: 10195.7056\n",
      "Step 1170000, w: 2.6619, b: -185.8067, Loss: 10195.5954\n",
      "Step 1180000, w: 2.6621, b: -185.8789, Loss: 10195.4912\n",
      "Step 1190000, w: 2.6623, b: -185.9491, Loss: 10195.3926\n",
      "Step 1200000, w: 2.6625, b: -186.0174, Loss: 10195.2994\n",
      "Step 1210000, w: 2.6627, b: -186.0838, Loss: 10195.2112\n",
      "Step 1220000, w: 2.6629, b: -186.1483, Loss: 10195.1278\n",
      "Step 1230000, w: 2.6631, b: -186.2111, Loss: 10195.0490\n",
      "Step 1240000, w: 2.6632, b: -186.2722, Loss: 10194.9744\n",
      "Step 1250000, w: 2.6634, b: -186.3316, Loss: 10194.9038\n",
      "Step 1260000, w: 2.6636, b: -186.3894, Loss: 10194.8371\n",
      "Step 1270000, w: 2.6637, b: -186.4455, Loss: 10194.7740\n",
      "Step 1280000, w: 2.6639, b: -186.5002, Loss: 10194.7143\n",
      "Step 1290000, w: 2.6641, b: -186.5533, Loss: 10194.6579\n",
      "Step 1300000, w: 2.6642, b: -186.6049, Loss: 10194.6045\n",
      "Step 1310000, w: 2.6643, b: -186.6552, Loss: 10194.5540\n",
      "Step 1320000, w: 2.6645, b: -186.7041, Loss: 10194.5062\n",
      "Step 1330000, w: 2.6646, b: -186.7516, Loss: 10194.4610\n",
      "Step 1340000, w: 2.6648, b: -186.7978, Loss: 10194.4183\n",
      "Step 1350000, w: 2.6649, b: -186.8427, Loss: 10194.3779\n",
      "Step 1360000, w: 2.6650, b: -186.8864, Loss: 10194.3397\n",
      "Step 1370000, w: 2.6651, b: -186.9290, Loss: 10194.3036\n",
      "Step 1380000, w: 2.6653, b: -186.9703, Loss: 10194.2694\n",
      "Step 1390000, w: 2.6654, b: -187.0105, Loss: 10194.2371\n",
      "大约需要时间： 18.77251672744751 S\n"
     ]
    }
   ],
   "source": [
    "# linear regression\n",
    "b = -120\n",
    "w = -4\n",
    "# b=-2\n",
    "# w=0.01\n",
    "lr = 0.000005\n",
    "iteration = 1400000\n",
    "\n",
    "b_history = [b]\n",
    "w_history = [w]\n",
    "loss_history = []\n",
    "import time\n",
    "start = time.time()\n",
    "for i in range(iteration):\n",
    "    m = float(len(x_d))\n",
    "    y_hat = w * x_d  +b\n",
    "    loss = np.dot(y_d - y_hat, y_d - y_hat) / m\n",
    "    grad_b = -2.0 * np.sum(y_d - y_hat) / m\n",
    "    grad_w = -2.0 * np.dot(y_d - y_hat, x_d) / m\n",
    "    # update param\n",
    "    b -= lr * grad_b\n",
    "    w -= lr * grad_w\n",
    "    b_history.append(b)\n",
    "    w_history.append(w)\n",
    "    loss_history.append(loss)\n",
    "    if i % 10000 == 0:\n",
    "        print(\"Step %i, w: %0.4f, b: %.4f, Loss: %.4f\" % (i, w, b, loss))\n",
    "end = time.time()\n",
    "print(\"大约需要时间\",end-start,\"S\")"
   ]
  },
  {
   "cell_type": "markdown",
   "metadata": {},
   "source": [
    "### 可视化结果"
   ]
  },
  {
   "cell_type": "code",
   "execution_count": 22,
   "metadata": {},
   "outputs": [
    {
     "data": {
      "image/png": "[encoded data removed]",
      "text/plain": [
       "<Figure size 432x288 with 1 Axes>"
      ]
     },
     "metadata": {
      "needs_background": "light"
     },
     "output_type": "display_data"
    }
   ],
   "source": [
    "# plot the figure\n",
    "plt.contourf(x, y, Z, 50, alpha=0.5, cmap=plt.get_cmap('jet'))  # 填充等高线\n",
    "plt.plot([-188.4], [2.67], 'x', ms=12, mew=3, color=\"orange\")\n",
    "plt.plot(b_history, w_history, 'o-', ms=3, lw=1.5, color='black')\n",
    "plt.xlim(-200, -100)\n",
    "plt.ylim(-5, 5)\n",
    "plt.xlabel(r'$b$')\n",
    "plt.ylabel(r'$w$')\n",
    "plt.title(\"线性回归\")\n",
    "plt.show()"
   ]
  }
 ],
 "metadata": {
  "interpreter": {
   "hash": "e99df6600f94a5222ecb9a6a2e3edfa662ea64da68c007d01e06e6d1257b529b"
  },
  "kernelspec": {
   "display_name": "Python 3.9.7 ('base')",
   "language": "python",
   "name": "python3"
  },
  "language_info": {
   "codemirror_mode": {
    "name": "ipython",
    "version": 3
   },
   "file_extension": ".py",
   "mimetype": "text/x-python",
   "name": "python",
   "nbconvert_exporter": "python",
   "pygments_lexer": "ipython3",
   "version": "3.9.7"
  },
  "orig_nbformat": 4
 },
 "nbformat": 4,
 "nbformat_minor": 2
}
